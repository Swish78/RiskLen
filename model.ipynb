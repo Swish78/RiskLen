{
 "cells": [
  {
   "cell_type": "code",
   "id": "initial_id",
   "metadata": {
    "collapsed": true,
    "ExecuteTime": {
     "end_time": "2024-09-26T18:13:29.053831Z",
     "start_time": "2024-09-26T18:13:29.038682Z"
    }
   },
   "source": [
    "import pandas as pd\n",
    "import numpy as np\n",
    "import matplotlib.pyplot as plt\n",
    "import seaborn as sns\n",
    "from sklearn.model_selection import train_test_split, GridSearchCV\n",
    "from sklearn.compose import ColumnTransformer\n",
    "from sklearn.pipeline import Pipeline\n",
    "from sklearn.preprocessing import StandardScaler, OneHotEncoder, LabelEncoder\n",
    "from sklearn.decomposition import PCA\n",
    "from sklearn.ensemble import RandomForestRegressor\n",
    "from sklearn.svm import SVR\n",
    "from xgboost import XGBRegressor\n",
    "from sklearn.metrics import mean_squared_error\n",
    "from sklearn.ensemble import HistGradientBoostingRegressor\n",
    "from sklearn.ensemble import VotingRegressor\n",
    "\n",
    "\n",
    "\n",
    "sns.set_theme(style=\"whitegrid\")\n",
    "pd.set_option(\"display.max_columns\", None)\n",
    "pd.option_context('mode.use_inf_as_na', True)"
   ],
   "outputs": [
    {
     "data": {
      "text/plain": [
       "<pandas._config.config.option_context at 0x150ad2850>"
      ]
     },
     "execution_count": 40,
     "metadata": {},
     "output_type": "execute_result"
    }
   ],
   "execution_count": 40
  },
  {
   "metadata": {
    "ExecuteTime": {
     "end_time": "2024-09-26T18:13:29.211127Z",
     "start_time": "2024-09-26T18:13:29.126715Z"
    }
   },
   "cell_type": "code",
   "source": [
    "df = pd.read_csv('Loan.csv')\n",
    "df.drop('ApplicationDate', inplace=True, axis=1)"
   ],
   "id": "a6b24e92a984c928",
   "outputs": [],
   "execution_count": 41
  },
  {
   "metadata": {
    "ExecuteTime": {
     "end_time": "2024-09-26T18:13:29.224096Z",
     "start_time": "2024-09-26T18:13:29.220159Z"
    }
   },
   "cell_type": "code",
   "source": "df.columns",
   "id": "5e79e38ea8866209",
   "outputs": [
    {
     "data": {
      "text/plain": [
       "Index(['Age', 'AnnualIncome', 'CreditScore', 'EmploymentStatus',\n",
       "       'EducationLevel', 'Experience', 'LoanAmount', 'LoanDuration',\n",
       "       'MaritalStatus', 'NumberOfDependents', 'HomeOwnershipStatus',\n",
       "       'MonthlyDebtPayments', 'CreditCardUtilizationRate',\n",
       "       'NumberOfOpenCreditLines', 'NumberOfCreditInquiries',\n",
       "       'DebtToIncomeRatio', 'BankruptcyHistory', 'LoanPurpose',\n",
       "       'PreviousLoanDefaults', 'PaymentHistory', 'LengthOfCreditHistory',\n",
       "       'SavingsAccountBalance', 'CheckingAccountBalance', 'TotalAssets',\n",
       "       'TotalLiabilities', 'MonthlyIncome', 'UtilityBillsPaymentHistory',\n",
       "       'JobTenure', 'NetWorth', 'BaseInterestRate', 'InterestRate',\n",
       "       'MonthlyLoanPayment', 'TotalDebtToIncomeRatio', 'LoanApproved',\n",
       "       'RiskScore'],\n",
       "      dtype='object')"
      ]
     },
     "execution_count": 42,
     "metadata": {},
     "output_type": "execute_result"
    }
   ],
   "execution_count": 42
  },
  {
   "metadata": {
    "ExecuteTime": {
     "end_time": "2024-09-26T18:13:29.308450Z",
     "start_time": "2024-09-26T18:13:29.302651Z"
    }
   },
   "cell_type": "code",
   "source": "df.drop('LoanApproved',axis=1, inplace=True)",
   "id": "f8639ecf02a259ec",
   "outputs": [],
   "execution_count": 43
  },
  {
   "metadata": {
    "ExecuteTime": {
     "end_time": "2024-09-26T18:13:29.413643Z",
     "start_time": "2024-09-26T18:13:29.408446Z"
    }
   },
   "cell_type": "code",
   "source": [
    "num_cols = df.select_dtypes(include=['int', 'float']).columns.difference(['RiskScore'])\n",
    "cat_cols = df.select_dtypes(include='object').columns"
   ],
   "id": "ee30ecc4c3639da4",
   "outputs": [],
   "execution_count": 44
  },
  {
   "metadata": {
    "ExecuteTime": {
     "end_time": "2024-09-26T18:13:29.431782Z",
     "start_time": "2024-09-26T18:13:29.421015Z"
    }
   },
   "cell_type": "code",
   "source": [
    "for col in cat_cols:\n",
    "    print(df[col].value_counts())\n",
    "    print('-'*10)"
   ],
   "id": "a9f150980a292c97",
   "outputs": [
    {
     "name": "stdout",
     "output_type": "stream",
     "text": [
      "EmploymentStatus\n",
      "Employed         17036\n",
      "Self-Employed     1573\n",
      "Unemployed        1391\n",
      "Name: count, dtype: int64\n",
      "----------\n",
      "EducationLevel\n",
      "Bachelor       6054\n",
      "High School    5908\n",
      "Associate      4034\n",
      "Master         3050\n",
      "Doctorate       954\n",
      "Name: count, dtype: int64\n",
      "----------\n",
      "MaritalStatus\n",
      "Married     10041\n",
      "Single       6078\n",
      "Divorced     2882\n",
      "Widowed       999\n",
      "Name: count, dtype: int64\n",
      "----------\n",
      "HomeOwnershipStatus\n",
      "Mortgage    7939\n",
      "Rent        6087\n",
      "Own         3938\n",
      "Other       2036\n",
      "Name: count, dtype: int64\n",
      "----------\n",
      "LoanPurpose\n",
      "Home                  5925\n",
      "Debt Consolidation    5027\n",
      "Auto                  4034\n",
      "Education             3008\n",
      "Other                 2006\n",
      "Name: count, dtype: int64\n",
      "----------\n"
     ]
    }
   ],
   "execution_count": 45
  },
  {
   "metadata": {
    "ExecuteTime": {
     "end_time": "2024-09-26T18:13:29.619654Z",
     "start_time": "2024-09-26T18:13:29.516307Z"
    }
   },
   "cell_type": "code",
   "source": [
    "Q1 = df[num_cols].quantile(0.15)\n",
    "Q3 = df[num_cols].quantile(0.85)\n",
    "IQR = Q3 - Q1\n",
    "\n",
    "for col in num_cols:\n",
    "    df = df[~((df[col] < (Q1[col] - 1.5 * IQR[col])) | (df[col] > (Q3[col] + 1.5 * IQR[col])))]"
   ],
   "id": "1997923b9f3c3ddf",
   "outputs": [],
   "execution_count": 46
  },
  {
   "metadata": {
    "ExecuteTime": {
     "end_time": "2024-09-26T18:13:29.667894Z",
     "start_time": "2024-09-26T18:13:29.665374Z"
    }
   },
   "cell_type": "code",
   "source": [
    "num_transformer = Pipeline(steps=[\n",
    "    ('scaler', StandardScaler())  \n",
    "])\n",
    "\n",
    "cat_transformer = Pipeline(steps=[\n",
    "    ('onehot', OneHotEncoder(handle_unknown='ignore')) \n",
    "])"
   ],
   "id": "41605921de80f438",
   "outputs": [],
   "execution_count": 47
  },
  {
   "metadata": {
    "ExecuteTime": {
     "end_time": "2024-09-26T18:13:29.715487Z",
     "start_time": "2024-09-26T18:13:29.712401Z"
    }
   },
   "cell_type": "code",
   "source": [
    "num_transformer = Pipeline(steps=[\n",
    "    ('scaler', StandardScaler())  \n",
    "])\n",
    "\n",
    "cat_transformer = Pipeline(steps=[\n",
    "    ('onehot', OneHotEncoder(handle_unknown='ignore')) \n",
    "])"
   ],
   "id": "3d0f2116b331a0d0",
   "outputs": [],
   "execution_count": 48
  },
  {
   "metadata": {
    "ExecuteTime": {
     "end_time": "2024-09-26T18:13:29.761677Z",
     "start_time": "2024-09-26T18:13:29.758820Z"
    }
   },
   "cell_type": "code",
   "source": [
    "preprocessor = ColumnTransformer(\n",
    "    transformers=[\n",
    "        ('num', num_transformer, num_cols),\n",
    "        ('cat', cat_transformer, cat_cols)\n",
    "    ]\n",
    ")"
   ],
   "id": "6b8b2af1e3f7a1ca",
   "outputs": [],
   "execution_count": 49
  },
  {
   "metadata": {
    "ExecuteTime": {
     "end_time": "2024-09-26T18:13:29.809861Z",
     "start_time": "2024-09-26T18:13:29.806062Z"
    }
   },
   "cell_type": "code",
   "source": [
    "pipeline = Pipeline(steps=[\n",
    "    ('preprocessor', preprocessor),  \n",
    "    ('pca', PCA(n_components=15))   \n",
    "])"
   ],
   "id": "5113acba7c60e61b",
   "outputs": [],
   "execution_count": 50
  },
  {
   "metadata": {
    "ExecuteTime": {
     "end_time": "2024-09-26T18:13:29.861718Z",
     "start_time": "2024-09-26T18:13:29.854676Z"
    }
   },
   "cell_type": "code",
   "source": [
    "X = df.drop('RiskScore', axis=1)\n",
    "y = df['RiskScore'] "
   ],
   "id": "b5f03a9fb893589f",
   "outputs": [],
   "execution_count": 51
  },
  {
   "metadata": {
    "ExecuteTime": {
     "end_time": "2024-09-26T18:13:29.920036Z",
     "start_time": "2024-09-26T18:13:29.906527Z"
    }
   },
   "cell_type": "code",
   "source": "X_train, X_test, y_train, y_test = train_test_split(X, y, test_size=0.2, random_state=42)",
   "id": "4a239f24dab777ab",
   "outputs": [],
   "execution_count": 52
  },
  {
   "metadata": {
    "ExecuteTime": {
     "end_time": "2024-09-26T18:13:30.154947Z",
     "start_time": "2024-09-26T18:13:29.973238Z"
    }
   },
   "cell_type": "code",
   "source": "pipeline.fit(X_train)",
   "id": "489a2a6f06382bff",
   "outputs": [
    {
     "data": {
      "text/plain": [
       "Pipeline(steps=[('preprocessor',\n",
       "                 ColumnTransformer(transformers=[('num',\n",
       "                                                  Pipeline(steps=[('scaler',\n",
       "                                                                   StandardScaler())]),\n",
       "                                                  Index(['Age', 'AnnualIncome', 'BankruptcyHistory', 'BaseInterestRate',\n",
       "       'CheckingAccountBalance', 'CreditCardUtilizationRate', 'CreditScore',\n",
       "       'DebtToIncomeRatio', 'Experience', 'InterestRate', 'JobTenure',\n",
       "       'LengthOfCreditHistory', 'LoanAmount', 'L...\n",
       "       'SavingsAccountBalance', 'TotalAssets', 'TotalDebtToIncomeRatio',\n",
       "       'TotalLiabilities', 'UtilityBillsPaymentHistory'],\n",
       "      dtype='object')),\n",
       "                                                 ('cat',\n",
       "                                                  Pipeline(steps=[('onehot',\n",
       "                                                                   OneHotEncoder(handle_unknown='ignore'))]),\n",
       "                                                  Index(['EmploymentStatus', 'EducationLevel', 'MaritalStatus',\n",
       "       'HomeOwnershipStatus', 'LoanPurpose'],\n",
       "      dtype='object'))])),\n",
       "                ('pca', PCA(n_components=15))])"
      ],
      "text/html": [
       "<style>#sk-container-id-3 {color: black;}#sk-container-id-3 pre{padding: 0;}#sk-container-id-3 div.sk-toggleable {background-color: white;}#sk-container-id-3 label.sk-toggleable__label {cursor: pointer;display: block;width: 100%;margin-bottom: 0;padding: 0.3em;box-sizing: border-box;text-align: center;}#sk-container-id-3 label.sk-toggleable__label-arrow:before {content: \"▸\";float: left;margin-right: 0.25em;color: #696969;}#sk-container-id-3 label.sk-toggleable__label-arrow:hover:before {color: black;}#sk-container-id-3 div.sk-estimator:hover label.sk-toggleable__label-arrow:before {color: black;}#sk-container-id-3 div.sk-toggleable__content {max-height: 0;max-width: 0;overflow: hidden;text-align: left;background-color: #f0f8ff;}#sk-container-id-3 div.sk-toggleable__content pre {margin: 0.2em;color: black;border-radius: 0.25em;background-color: #f0f8ff;}#sk-container-id-3 input.sk-toggleable__control:checked~div.sk-toggleable__content {max-height: 200px;max-width: 100%;overflow: auto;}#sk-container-id-3 input.sk-toggleable__control:checked~label.sk-toggleable__label-arrow:before {content: \"▾\";}#sk-container-id-3 div.sk-estimator input.sk-toggleable__control:checked~label.sk-toggleable__label {background-color: #d4ebff;}#sk-container-id-3 div.sk-label input.sk-toggleable__control:checked~label.sk-toggleable__label {background-color: #d4ebff;}#sk-container-id-3 input.sk-hidden--visually {border: 0;clip: rect(1px 1px 1px 1px);clip: rect(1px, 1px, 1px, 1px);height: 1px;margin: -1px;overflow: hidden;padding: 0;position: absolute;width: 1px;}#sk-container-id-3 div.sk-estimator {font-family: monospace;background-color: #f0f8ff;border: 1px dotted black;border-radius: 0.25em;box-sizing: border-box;margin-bottom: 0.5em;}#sk-container-id-3 div.sk-estimator:hover {background-color: #d4ebff;}#sk-container-id-3 div.sk-parallel-item::after {content: \"\";width: 100%;border-bottom: 1px solid gray;flex-grow: 1;}#sk-container-id-3 div.sk-label:hover label.sk-toggleable__label {background-color: #d4ebff;}#sk-container-id-3 div.sk-serial::before {content: \"\";position: absolute;border-left: 1px solid gray;box-sizing: border-box;top: 0;bottom: 0;left: 50%;z-index: 0;}#sk-container-id-3 div.sk-serial {display: flex;flex-direction: column;align-items: center;background-color: white;padding-right: 0.2em;padding-left: 0.2em;position: relative;}#sk-container-id-3 div.sk-item {position: relative;z-index: 1;}#sk-container-id-3 div.sk-parallel {display: flex;align-items: stretch;justify-content: center;background-color: white;position: relative;}#sk-container-id-3 div.sk-item::before, #sk-container-id-3 div.sk-parallel-item::before {content: \"\";position: absolute;border-left: 1px solid gray;box-sizing: border-box;top: 0;bottom: 0;left: 50%;z-index: -1;}#sk-container-id-3 div.sk-parallel-item {display: flex;flex-direction: column;z-index: 1;position: relative;background-color: white;}#sk-container-id-3 div.sk-parallel-item:first-child::after {align-self: flex-end;width: 50%;}#sk-container-id-3 div.sk-parallel-item:last-child::after {align-self: flex-start;width: 50%;}#sk-container-id-3 div.sk-parallel-item:only-child::after {width: 0;}#sk-container-id-3 div.sk-dashed-wrapped {border: 1px dashed gray;margin: 0 0.4em 0.5em 0.4em;box-sizing: border-box;padding-bottom: 0.4em;background-color: white;}#sk-container-id-3 div.sk-label label {font-family: monospace;font-weight: bold;display: inline-block;line-height: 1.2em;}#sk-container-id-3 div.sk-label-container {text-align: center;}#sk-container-id-3 div.sk-container {/* jupyter's `normalize.less` sets `[hidden] { display: none; }` but bootstrap.min.css set `[hidden] { display: none !important; }` so we also need the `!important` here to be able to override the default hidden behavior on the sphinx rendered scikit-learn.org. See: https://github.com/scikit-learn/scikit-learn/issues/21755 */display: inline-block !important;position: relative;}#sk-container-id-3 div.sk-text-repr-fallback {display: none;}</style><div id=\"sk-container-id-3\" class=\"sk-top-container\"><div class=\"sk-text-repr-fallback\"><pre>Pipeline(steps=[(&#x27;preprocessor&#x27;,\n",
       "                 ColumnTransformer(transformers=[(&#x27;num&#x27;,\n",
       "                                                  Pipeline(steps=[(&#x27;scaler&#x27;,\n",
       "                                                                   StandardScaler())]),\n",
       "                                                  Index([&#x27;Age&#x27;, &#x27;AnnualIncome&#x27;, &#x27;BankruptcyHistory&#x27;, &#x27;BaseInterestRate&#x27;,\n",
       "       &#x27;CheckingAccountBalance&#x27;, &#x27;CreditCardUtilizationRate&#x27;, &#x27;CreditScore&#x27;,\n",
       "       &#x27;DebtToIncomeRatio&#x27;, &#x27;Experience&#x27;, &#x27;InterestRate&#x27;, &#x27;JobTenure&#x27;,\n",
       "       &#x27;LengthOfCreditHistory&#x27;, &#x27;LoanAmount&#x27;, &#x27;L...\n",
       "       &#x27;SavingsAccountBalance&#x27;, &#x27;TotalAssets&#x27;, &#x27;TotalDebtToIncomeRatio&#x27;,\n",
       "       &#x27;TotalLiabilities&#x27;, &#x27;UtilityBillsPaymentHistory&#x27;],\n",
       "      dtype=&#x27;object&#x27;)),\n",
       "                                                 (&#x27;cat&#x27;,\n",
       "                                                  Pipeline(steps=[(&#x27;onehot&#x27;,\n",
       "                                                                   OneHotEncoder(handle_unknown=&#x27;ignore&#x27;))]),\n",
       "                                                  Index([&#x27;EmploymentStatus&#x27;, &#x27;EducationLevel&#x27;, &#x27;MaritalStatus&#x27;,\n",
       "       &#x27;HomeOwnershipStatus&#x27;, &#x27;LoanPurpose&#x27;],\n",
       "      dtype=&#x27;object&#x27;))])),\n",
       "                (&#x27;pca&#x27;, PCA(n_components=15))])</pre><b>In a Jupyter environment, please rerun this cell to show the HTML representation or trust the notebook. <br />On GitHub, the HTML representation is unable to render, please try loading this page with nbviewer.org.</b></div><div class=\"sk-container\" hidden><div class=\"sk-item sk-dashed-wrapped\"><div class=\"sk-label-container\"><div class=\"sk-label sk-toggleable\"><input class=\"sk-toggleable__control sk-hidden--visually\" id=\"sk-estimator-id-15\" type=\"checkbox\" ><label for=\"sk-estimator-id-15\" class=\"sk-toggleable__label sk-toggleable__label-arrow\">Pipeline</label><div class=\"sk-toggleable__content\"><pre>Pipeline(steps=[(&#x27;preprocessor&#x27;,\n",
       "                 ColumnTransformer(transformers=[(&#x27;num&#x27;,\n",
       "                                                  Pipeline(steps=[(&#x27;scaler&#x27;,\n",
       "                                                                   StandardScaler())]),\n",
       "                                                  Index([&#x27;Age&#x27;, &#x27;AnnualIncome&#x27;, &#x27;BankruptcyHistory&#x27;, &#x27;BaseInterestRate&#x27;,\n",
       "       &#x27;CheckingAccountBalance&#x27;, &#x27;CreditCardUtilizationRate&#x27;, &#x27;CreditScore&#x27;,\n",
       "       &#x27;DebtToIncomeRatio&#x27;, &#x27;Experience&#x27;, &#x27;InterestRate&#x27;, &#x27;JobTenure&#x27;,\n",
       "       &#x27;LengthOfCreditHistory&#x27;, &#x27;LoanAmount&#x27;, &#x27;L...\n",
       "       &#x27;SavingsAccountBalance&#x27;, &#x27;TotalAssets&#x27;, &#x27;TotalDebtToIncomeRatio&#x27;,\n",
       "       &#x27;TotalLiabilities&#x27;, &#x27;UtilityBillsPaymentHistory&#x27;],\n",
       "      dtype=&#x27;object&#x27;)),\n",
       "                                                 (&#x27;cat&#x27;,\n",
       "                                                  Pipeline(steps=[(&#x27;onehot&#x27;,\n",
       "                                                                   OneHotEncoder(handle_unknown=&#x27;ignore&#x27;))]),\n",
       "                                                  Index([&#x27;EmploymentStatus&#x27;, &#x27;EducationLevel&#x27;, &#x27;MaritalStatus&#x27;,\n",
       "       &#x27;HomeOwnershipStatus&#x27;, &#x27;LoanPurpose&#x27;],\n",
       "      dtype=&#x27;object&#x27;))])),\n",
       "                (&#x27;pca&#x27;, PCA(n_components=15))])</pre></div></div></div><div class=\"sk-serial\"><div class=\"sk-item sk-dashed-wrapped\"><div class=\"sk-label-container\"><div class=\"sk-label sk-toggleable\"><input class=\"sk-toggleable__control sk-hidden--visually\" id=\"sk-estimator-id-16\" type=\"checkbox\" ><label for=\"sk-estimator-id-16\" class=\"sk-toggleable__label sk-toggleable__label-arrow\">preprocessor: ColumnTransformer</label><div class=\"sk-toggleable__content\"><pre>ColumnTransformer(transformers=[(&#x27;num&#x27;,\n",
       "                                 Pipeline(steps=[(&#x27;scaler&#x27;, StandardScaler())]),\n",
       "                                 Index([&#x27;Age&#x27;, &#x27;AnnualIncome&#x27;, &#x27;BankruptcyHistory&#x27;, &#x27;BaseInterestRate&#x27;,\n",
       "       &#x27;CheckingAccountBalance&#x27;, &#x27;CreditCardUtilizationRate&#x27;, &#x27;CreditScore&#x27;,\n",
       "       &#x27;DebtToIncomeRatio&#x27;, &#x27;Experience&#x27;, &#x27;InterestRate&#x27;, &#x27;JobTenure&#x27;,\n",
       "       &#x27;LengthOfCreditHistory&#x27;, &#x27;LoanAmount&#x27;, &#x27;LoanDuration&#x27;,\n",
       "       &#x27;MonthlyDebtPayment...\n",
       "       &#x27;NumberOfOpenCreditLines&#x27;, &#x27;PaymentHistory&#x27;, &#x27;PreviousLoanDefaults&#x27;,\n",
       "       &#x27;SavingsAccountBalance&#x27;, &#x27;TotalAssets&#x27;, &#x27;TotalDebtToIncomeRatio&#x27;,\n",
       "       &#x27;TotalLiabilities&#x27;, &#x27;UtilityBillsPaymentHistory&#x27;],\n",
       "      dtype=&#x27;object&#x27;)),\n",
       "                                (&#x27;cat&#x27;,\n",
       "                                 Pipeline(steps=[(&#x27;onehot&#x27;,\n",
       "                                                  OneHotEncoder(handle_unknown=&#x27;ignore&#x27;))]),\n",
       "                                 Index([&#x27;EmploymentStatus&#x27;, &#x27;EducationLevel&#x27;, &#x27;MaritalStatus&#x27;,\n",
       "       &#x27;HomeOwnershipStatus&#x27;, &#x27;LoanPurpose&#x27;],\n",
       "      dtype=&#x27;object&#x27;))])</pre></div></div></div><div class=\"sk-parallel\"><div class=\"sk-parallel-item\"><div class=\"sk-item\"><div class=\"sk-label-container\"><div class=\"sk-label sk-toggleable\"><input class=\"sk-toggleable__control sk-hidden--visually\" id=\"sk-estimator-id-17\" type=\"checkbox\" ><label for=\"sk-estimator-id-17\" class=\"sk-toggleable__label sk-toggleable__label-arrow\">num</label><div class=\"sk-toggleable__content\"><pre>Index([&#x27;Age&#x27;, &#x27;AnnualIncome&#x27;, &#x27;BankruptcyHistory&#x27;, &#x27;BaseInterestRate&#x27;,\n",
       "       &#x27;CheckingAccountBalance&#x27;, &#x27;CreditCardUtilizationRate&#x27;, &#x27;CreditScore&#x27;,\n",
       "       &#x27;DebtToIncomeRatio&#x27;, &#x27;Experience&#x27;, &#x27;InterestRate&#x27;, &#x27;JobTenure&#x27;,\n",
       "       &#x27;LengthOfCreditHistory&#x27;, &#x27;LoanAmount&#x27;, &#x27;LoanDuration&#x27;,\n",
       "       &#x27;MonthlyDebtPayments&#x27;, &#x27;MonthlyIncome&#x27;, &#x27;MonthlyLoanPayment&#x27;,\n",
       "       &#x27;NetWorth&#x27;, &#x27;NumberOfCreditInquiries&#x27;, &#x27;NumberOfDependents&#x27;,\n",
       "       &#x27;NumberOfOpenCreditLines&#x27;, &#x27;PaymentHistory&#x27;, &#x27;PreviousLoanDefaults&#x27;,\n",
       "       &#x27;SavingsAccountBalance&#x27;, &#x27;TotalAssets&#x27;, &#x27;TotalDebtToIncomeRatio&#x27;,\n",
       "       &#x27;TotalLiabilities&#x27;, &#x27;UtilityBillsPaymentHistory&#x27;],\n",
       "      dtype=&#x27;object&#x27;)</pre></div></div></div><div class=\"sk-serial\"><div class=\"sk-item\"><div class=\"sk-serial\"><div class=\"sk-item\"><div class=\"sk-estimator sk-toggleable\"><input class=\"sk-toggleable__control sk-hidden--visually\" id=\"sk-estimator-id-18\" type=\"checkbox\" ><label for=\"sk-estimator-id-18\" class=\"sk-toggleable__label sk-toggleable__label-arrow\">StandardScaler</label><div class=\"sk-toggleable__content\"><pre>StandardScaler()</pre></div></div></div></div></div></div></div></div><div class=\"sk-parallel-item\"><div class=\"sk-item\"><div class=\"sk-label-container\"><div class=\"sk-label sk-toggleable\"><input class=\"sk-toggleable__control sk-hidden--visually\" id=\"sk-estimator-id-19\" type=\"checkbox\" ><label for=\"sk-estimator-id-19\" class=\"sk-toggleable__label sk-toggleable__label-arrow\">cat</label><div class=\"sk-toggleable__content\"><pre>Index([&#x27;EmploymentStatus&#x27;, &#x27;EducationLevel&#x27;, &#x27;MaritalStatus&#x27;,\n",
       "       &#x27;HomeOwnershipStatus&#x27;, &#x27;LoanPurpose&#x27;],\n",
       "      dtype=&#x27;object&#x27;)</pre></div></div></div><div class=\"sk-serial\"><div class=\"sk-item\"><div class=\"sk-serial\"><div class=\"sk-item\"><div class=\"sk-estimator sk-toggleable\"><input class=\"sk-toggleable__control sk-hidden--visually\" id=\"sk-estimator-id-20\" type=\"checkbox\" ><label for=\"sk-estimator-id-20\" class=\"sk-toggleable__label sk-toggleable__label-arrow\">OneHotEncoder</label><div class=\"sk-toggleable__content\"><pre>OneHotEncoder(handle_unknown=&#x27;ignore&#x27;)</pre></div></div></div></div></div></div></div></div></div></div><div class=\"sk-item\"><div class=\"sk-estimator sk-toggleable\"><input class=\"sk-toggleable__control sk-hidden--visually\" id=\"sk-estimator-id-21\" type=\"checkbox\" ><label for=\"sk-estimator-id-21\" class=\"sk-toggleable__label sk-toggleable__label-arrow\">PCA</label><div class=\"sk-toggleable__content\"><pre>PCA(n_components=15)</pre></div></div></div></div></div></div></div>"
      ]
     },
     "execution_count": 53,
     "metadata": {},
     "output_type": "execute_result"
    }
   ],
   "execution_count": 53
  },
  {
   "metadata": {
    "ExecuteTime": {
     "end_time": "2024-09-26T18:13:30.539631Z",
     "start_time": "2024-09-26T18:13:30.309959Z"
    }
   },
   "cell_type": "code",
   "source": [
    "X_train_transformed = pipeline.transform(X_train)\n",
    "X_test_transformed = pipeline.transform(X_test)\n",
    "\n",
    "print(X_train_transformed.shape) "
   ],
   "id": "5168cf639f5c6241",
   "outputs": [
    {
     "name": "stdout",
     "output_type": "stream",
     "text": [
      "(11366, 15)\n"
     ]
    }
   ],
   "execution_count": 54
  },
  {
   "metadata": {
    "ExecuteTime": {
     "end_time": "2024-09-26T18:13:30.778251Z",
     "start_time": "2024-09-26T18:13:30.729288Z"
    }
   },
   "cell_type": "code",
   "source": [
    "voting_regressor = VotingRegressor(estimators=[\n",
    "    ('rf', RandomForestRegressor(random_state=42)),\n",
    "    ('svr', SVR()),\n",
    "    ('xgb', XGBRegressor(random_state=42)),\n",
    "    ('hgb', HistGradientBoostingRegressor(random_state=42))\n",
    "])"
   ],
   "id": "5ab0619cae18613f",
   "outputs": [],
   "execution_count": 55
  },
  {
   "metadata": {
    "ExecuteTime": {
     "end_time": "2024-09-26T18:14:02.412781Z",
     "start_time": "2024-09-26T18:13:30.874192Z"
    }
   },
   "cell_type": "code",
   "source": [
    "voting_regressor.fit(X_train_transformed, y_train)\n",
    "y_pred_voting = voting_regressor.predict(X_test_transformed)\n",
    "mse_voting = mean_squared_error(y_test, y_pred_voting)\n",
    "\n",
    "print(f\"Voting Regressor MSE: {mse_voting}\")"
   ],
   "id": "59e3fe765cc5bb6b",
   "outputs": [
    {
     "name": "stdout",
     "output_type": "stream",
     "text": [
      "Voting Regressor MSE: 10.801717141417175\n"
     ]
    }
   ],
   "execution_count": 56
  },
  {
   "metadata": {
    "ExecuteTime": {
     "end_time": "2024-09-26T18:14:02.731881Z",
     "start_time": "2024-09-26T18:14:02.546354Z"
    }
   },
   "cell_type": "code",
   "source": [
    "import joblib\n",
    "\n",
    "joblib.dump(pipeline, 'preprocessing_pipeline.pkl')\n",
    "\n",
    "joblib.dump(voting_regressor, 'voting_regressor_model.pkl')"
   ],
   "id": "81c4806b04f4873f",
   "outputs": [
    {
     "data": {
      "text/plain": [
       "['voting_regressor_model.pkl']"
      ]
     },
     "execution_count": 57,
     "metadata": {},
     "output_type": "execute_result"
    }
   ],
   "execution_count": 57
  },
  {
   "metadata": {
    "ExecuteTime": {
     "end_time": "2024-09-26T18:14:02.810671Z",
     "start_time": "2024-09-26T18:14:02.808778Z"
    }
   },
   "cell_type": "code",
   "source": "",
   "id": "464e8cce822602ae",
   "outputs": [],
   "execution_count": null
  }
 ],
 "metadata": {
  "kernelspec": {
   "display_name": "Python 3",
   "language": "python",
   "name": "python3"
  },
  "language_info": {
   "codemirror_mode": {
    "name": "ipython",
    "version": 2
   },
   "file_extension": ".py",
   "mimetype": "text/x-python",
   "name": "python",
   "nbconvert_exporter": "python",
   "pygments_lexer": "ipython2",
   "version": "2.7.6"
  }
 },
 "nbformat": 4,
 "nbformat_minor": 5
}
